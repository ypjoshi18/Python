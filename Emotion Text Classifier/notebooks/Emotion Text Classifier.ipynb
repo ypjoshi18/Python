{
 "cells": [
  {
   "cell_type": "code",
   "execution_count": 1,
   "id": "c90c85ef-e684-4195-92d3-5809e68e47bd",
   "metadata": {},
   "outputs": [],
   "source": [
    "# Emotion Detection in Text"
   ]
  },
  {
   "cell_type": "code",
   "execution_count": 2,
   "id": "8e1fcfcb-6af5-464b-8e4f-62cf5174801f",
   "metadata": {},
   "outputs": [],
   "source": [
    "#Load EDA Packages\n",
    "import pandas as pd\n",
    "import numpy as np"
   ]
  },
  {
   "cell_type": "code",
   "execution_count": 3,
   "id": "5b45f9e9-f3c2-4578-9767-9dfef96f9cc8",
   "metadata": {},
   "outputs": [],
   "source": [
    "#Load Data Viz Packages\n",
    "import seaborn as sns"
   ]
  },
  {
   "cell_type": "code",
   "execution_count": 12,
   "id": "7d9a47fd-8963-4ba5-8dbe-7f3076abaf7f",
   "metadata": {},
   "outputs": [
    {
     "ename": "ModuleNotFoundError",
     "evalue": "No module named 'neattext'",
     "output_type": "error",
     "traceback": [
      "\u001b[1;31m---------------------------------------------------------------------------\u001b[0m",
      "\u001b[1;31mModuleNotFoundError\u001b[0m                       Traceback (most recent call last)",
      "\u001b[1;32m<ipython-input-12-2cf48434a78a>\u001b[0m in \u001b[0;36m<module>\u001b[1;34m\u001b[0m\n\u001b[0;32m      1\u001b[0m \u001b[1;31m#Load Text Cleaning Packages\u001b[0m\u001b[1;33m\u001b[0m\u001b[1;33m\u001b[0m\u001b[1;33m\u001b[0m\u001b[0m\n\u001b[0;32m      2\u001b[0m \u001b[1;31m# !pip install neattext\u001b[0m\u001b[1;33m\u001b[0m\u001b[1;33m\u001b[0m\u001b[1;33m\u001b[0m\u001b[0m\n\u001b[1;32m----> 3\u001b[1;33m \u001b[1;32mimport\u001b[0m \u001b[0mneattext\u001b[0m \u001b[1;32mas\u001b[0m \u001b[0mnfx\u001b[0m\u001b[1;33m\u001b[0m\u001b[1;33m\u001b[0m\u001b[0m\n\u001b[0m",
      "\u001b[1;31mModuleNotFoundError\u001b[0m: No module named 'neattext'"
     ]
    }
   ],
   "source": [
    "#Load Text Cleaning Packages\n",
    "# !pip install neattext\n",
    "import neattext as nfx"
   ]
  },
  {
   "cell_type": "code",
   "execution_count": null,
   "id": "92aa830a-7bcc-464d-ac2a-bdf22ec1cf1c",
   "metadata": {},
   "outputs": [],
   "source": [
    "#Load ML Packages\n",
    "from sklearn.linear_model import LogisticRegression\n",
    "from sklearn.naive_bayes import MultinomialNB\n",
    "\n",
    "#Transformers\n",
    "from sklearn.feature_extraction import CountVectorizer\n",
    "from sklearn.model_selection import train_test_split\n",
    "from sklearn.metrics import accuracy_score, classification_report, confusion_matrix"
   ]
  },
  {
   "cell_type": "code",
   "execution_count": null,
   "id": "1d0bc8c7-2ee6-4cbd-9da6-11d5eb8ccf81",
   "metadata": {},
   "outputs": [],
   "source": [
    "#Load Dataset\n",
    "df = pd.read_csv(\"data/emotion_dataset_2.csv\")\n",
    "df.head()"
   ]
  },
  {
   "cell_type": "code",
   "execution_count": null,
   "id": "b2032454-6a5f-423a-8bc6-791ab0b4cb6d",
   "metadata": {},
   "outputs": [],
   "source": []
  }
 ],
 "metadata": {
  "kernelspec": {
   "display_name": "Python 3",
   "language": "python",
   "name": "python3"
  },
  "language_info": {
   "codemirror_mode": {
    "name": "ipython",
    "version": 3
   },
   "file_extension": ".py",
   "mimetype": "text/x-python",
   "name": "python",
   "nbconvert_exporter": "python",
   "pygments_lexer": "ipython3",
   "version": "3.8.8"
  }
 },
 "nbformat": 4,
 "nbformat_minor": 5
}
